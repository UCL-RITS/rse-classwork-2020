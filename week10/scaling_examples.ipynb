{
 "cells": [
  {
   "cell_type": "markdown",
   "metadata": {},
   "source": [
    "# Simple demo of scaling behaviour\n",
    "\n",
    "This notebook demonstrates how the scaling behaviour of an operation (the time it takes as the size of the data grows) depends on the data structure used. We look at the time it takes to look up an element in two built-in Python types: a list and a dictionary.\n",
    "\n",
    "You can find many more examples and explanations in the [course notes](http://github-pages.ucl.ac.uk/rsd-engineeringcourse/ch08performance/050scaling.html)."
   ]
  },
  {
   "cell_type": "markdown",
   "metadata": {},
   "source": [
    "We first define two functions, which will create a list or a dictionary of a size we specify. The elements of the list (or keys of the dictionary) will be random strings."
   ]
  },
  {
   "cell_type": "code",
   "execution_count": null,
   "metadata": {},
   "outputs": [],
   "source": [
    "import random\n",
    "import string"
   ]
  },
  {
   "cell_type": "code",
   "execution_count": null,
   "metadata": {},
   "outputs": [],
   "source": [
    "def create_list(size):\n",
    "    \"\"\"Create a list of the given size containing random strings.\"\"\"\n",
    "    random_list = []\n",
    "    for _ in range(size):\n",
    "        element = \"\".join(random.sample(string.ascii_letters, random.randint(1, 10)))\n",
    "        random_list.append(element)\n",
    "    return random_list\n",
    "\n",
    "def create_dict(size):\n",
    "    \"\"\"Create a dictionary of the given size containing random strings.\"\"\"\n",
    "    random_dict = {}\n",
    "    for _ in range(size):\n",
    "        key = \"\".join(random.sample(string.ascii_letters, random.randint(1, 10)))\n",
    "        value = random.randint(0, 100)\n",
    "        random_dict[key] = value\n",
    "    return random_dict"
   ]
  },
  {
   "cell_type": "markdown",
   "metadata": {},
   "source": [
    "Let's create a small and a large list. The large one will have 1000 times as many elements as the small one."
   ]
  },
  {
   "cell_type": "code",
   "execution_count": null,
   "metadata": {},
   "outputs": [],
   "source": [
    "small_list = create_list(10)\n",
    "large_list = create_list(10000)"
   ]
  },
  {
   "cell_type": "markdown",
   "metadata": {},
   "source": [
    "Run the following two cells and see how long it takes to check whether each of the lists contains a particular element. How does the difference in times compare to the difference in size of the lists? (pay attention to the units of the result!)"
   ]
  },
  {
   "cell_type": "code",
   "execution_count": null,
   "metadata": {},
   "outputs": [],
   "source": [
    "%%timeit\n",
    "'aaa' in small_list"
   ]
  },
  {
   "cell_type": "code",
   "execution_count": null,
   "metadata": {},
   "outputs": [],
   "source": [
    "%%timeit\n",
    "'aaa' in large_list"
   ]
  },
  {
   "cell_type": "markdown",
   "metadata": {},
   "source": [
    "Now let's the do the same with dictionaries. How much longer does it take to look up a key in the large dictionary? How does the time scale with the size?"
   ]
  },
  {
   "cell_type": "code",
   "execution_count": null,
   "metadata": {},
   "outputs": [],
   "source": [
    "small_dict = create_dict(10)\n",
    "large_dict = create_dict(10000)"
   ]
  },
  {
   "cell_type": "code",
   "execution_count": null,
   "metadata": {},
   "outputs": [],
   "source": [
    "%%timeit\n",
    "'aaa' in small_dict"
   ]
  },
  {
   "cell_type": "code",
   "execution_count": null,
   "metadata": {},
   "outputs": [],
   "source": [
    "%%timeit\n",
    "'aaa' in large_dict"
   ]
  }
 ],
 "metadata": {
  "kernelspec": {
   "display_name": "Python 3",
   "language": "python",
   "name": "python3"
  },
  "language_info": {
   "codemirror_mode": {
    "name": "ipython",
    "version": 3
   },
   "file_extension": ".py",
   "mimetype": "text/x-python",
   "name": "python",
   "nbconvert_exporter": "python",
   "pygments_lexer": "ipython3",
   "version": "3.8.3"
  }
 },
 "nbformat": 4,
 "nbformat_minor": 4
}
