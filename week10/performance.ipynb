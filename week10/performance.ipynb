def sum_of_lists(N):
    total = 0
    for i in range(5):
        L = [j ^ (j >> i) for j in range(N)]
        # j >> i == j // 2 ** i (shift j bits i places to the right)
        # j ^ i -> bitwise exclusive or; j's bit doesn't change if i's = 0, changes to complement if i's = 1
        total += sum(L)
    return total

print(sum_of_lists(5))
%prun sum_of_lists(10_000_000)
%load_ext line_profiler
%lprun -f sum_of_lists sum_of_lists(10_000_000)