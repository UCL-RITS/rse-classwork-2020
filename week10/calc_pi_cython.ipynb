{
 "cells": [
  {
   "cell_type": "markdown",
   "metadata": {},
   "source": [
    "# Using Cython in a Jupyter notebook\n",
    "\n",
    "To use Cython, we must first load an extension."
   ]
  },
  {
   "cell_type": "code",
   "execution_count": null,
   "metadata": {},
   "outputs": [],
   "source": [
    "%load_ext cython"
   ]
  },
  {
   "cell_type": "markdown",
   "metadata": {},
   "source": [
    "We can define our functions with pure Python code, and Cython will try to optimise them."
   ]
  },
  {
   "cell_type": "code",
   "execution_count": null,
   "metadata": {},
   "outputs": [],
   "source": [
    "%%cython --annotate\n",
    "import argparse\n",
    "import math\n",
    "import random\n",
    "import time\n",
    "\n",
    "from utils import format_time\n",
    "\n",
    "def point_in_circle(x, y, radius=1):\n",
    "    \"\"\"\n",
    "    Checks whether a point (x, y) is part of a circle with a set radius.\n",
    "    example\n",
    "    -------\n",
    "    >>> point_in_circle(0, 0)\n",
    "    True\n",
    "    \"\"\"\n",
    "    r = math.sqrt(x ** 2 + y ** 2)\n",
    "    return r <= radius\n",
    "\n",
    "def calculate_pi(points):\n",
    "    \"\"\"\n",
    "    Calculates an approximated value of pi by the Monte Carlo method.\n",
    "    \"\"\"\n",
    "    within_circle = 0\n",
    "    for _ in range(points):\n",
    "        within_circle += int(point_in_circle(random.random(), random.random()))\n",
    "    return 4 * within_circle/points"
   ]
  },
  {
   "cell_type": "code",
   "execution_count": null,
   "metadata": {},
   "outputs": [],
   "source": [
    "%%timeit\n",
    "number_points = 10000\n",
    "calculate_pi(number_points)"
   ]
  }
 ],
 "metadata": {
  "kernelspec": {
   "display_name": "Python 3",
   "language": "python",
   "name": "python3"
  },
  "language_info": {
   "codemirror_mode": {
    "name": "ipython",
    "version": 3
   },
   "file_extension": ".py",
   "mimetype": "text/x-python",
   "name": "python",
   "nbconvert_exporter": "python",
   "pygments_lexer": "ipython3",
   "version": "3.8.3"
  }
 },
 "nbformat": 4,
 "nbformat_minor": 4
}
